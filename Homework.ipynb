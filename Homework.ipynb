{
 "cells": [
  {
   "cell_type": "markdown",
   "metadata": {},
   "source": [
    "\n",
    "# 1/15/2021 Homework Alejandro Beltran"
   ]
  },
  {
   "cell_type": "markdown",
   "metadata": {},
   "source": [
    "### Exercise 1 - Turn the shopping cart program from yesterday into an object-oriented program\n",
    "\n",
    "The comments in the cell below are there as a guide for thinking about the problem. However, if you feel a different way is best for you and your own thought process, please do what feels best for you by all means."
   ]
  },
  {
   "cell_type": "code",
   "execution_count": 134,
   "metadata": {},
   "outputs": [],
   "source": [
    "# Create a class called cart that retains items and has methods to add, remove, and show\n",
    "\n",
    "class Cart_l():\n",
    "      \n",
    "    def __init__(self):\n",
    "        self.cart = []\n",
    "\n",
    "        \n",
    "    def add(self, item):\n",
    "        self.cart.append(item)\n",
    "            \n",
    "    def remove(self, del_item):\n",
    "        self.cart.remove(del_item)\n",
    "    \n",
    "    def show(self):\n",
    "        print(self.cart)\n",
    "\n",
    "    pass"
   ]
  },
  {
   "cell_type": "code",
   "execution_count": 135,
   "metadata": {},
   "outputs": [
    {
     "name": "stdout",
     "output_type": "stream",
     "text": [
      "['potato', 'carrots']\n",
      "['potato']\n"
     ]
    }
   ],
   "source": [
    "Alejandro_CartL = Cart_l()\n",
    "\n",
    "Alejandro_CartL.add(\"potato\")\n",
    "Alejandro_CartL.add(\"carrots\")\n",
    "\n",
    "Alejandro_CartL.show()\n",
    "\n",
    "Alejandro_CartL.remove(\"carrots\")\n",
    "\n",
    "Alejandro_CartL.show()"
   ]
  },
  {
   "cell_type": "code",
   "execution_count": 113,
   "metadata": {},
   "outputs": [],
   "source": [
    "class Cart_d():\n",
    "      \n",
    "    def __init__(self):\n",
    "        self.cart = {}\n",
    "\n",
    "                \n",
    "    def add(self, item, item_count):\n",
    "        self.cart[item] = item_count\n",
    "            \n",
    "    def remove(self, del_item):\n",
    "        del self.cart[del_item]\n",
    "    \n",
    "    def show(self):\n",
    "        print(self.cart)\n",
    "\n",
    "    pass\n"
   ]
  },
  {
   "cell_type": "code",
   "execution_count": 119,
   "metadata": {},
   "outputs": [
    {
     "name": "stdout",
     "output_type": "stream",
     "text": [
      "{'potato': 8, 'carrots': 3}\n",
      "{'potato': 8}\n"
     ]
    }
   ],
   "source": [
    "Alejandro_CartD = Cart_d()\n",
    "\n",
    "Alejandro_CartD.add(\"potato\", 8)\n",
    "Alejandro_CartD.add(\"carrots\", 3)\n",
    "\n",
    "Alejandro_CartD.show()\n",
    "\n",
    "Alejandro_CartD.remove(\"carrots\")\n",
    "\n",
    "Alejandro_CartD.show()"
   ]
  },
  {
   "cell_type": "markdown",
   "metadata": {},
   "source": [
    "### Exercise 2 - Write a Python class which has two methods get_String and print_String. get_String accept a string from the user and print_String print the string in upper case"
   ]
  },
  {
   "cell_type": "code",
   "execution_count": 67,
   "metadata": {},
   "outputs": [],
   "source": [
    "class String():\n",
    "    def __init__(self):\n",
    "        self.input_String = \"\"\n",
    "    def get_String(self):\n",
    "        self.input_String = input(f\"What is your string? \")\n",
    "    def print_String(self):\n",
    "        print(f\"your eyes are {self.input_String.upper()}\")"
   ]
  },
  {
   "cell_type": "code",
   "execution_count": 68,
   "metadata": {},
   "outputs": [
    {
     "name": "stdout",
     "output_type": "stream",
     "text": [
      "What is your string? blue\n",
      "your eyes are BLUE\n"
     ]
    }
   ],
   "source": [
    "eyes = String()\n",
    "\n",
    "eyes.get_String()\n",
    "\n",
    "eyes.print_String()\n"
   ]
  }
 ],
 "metadata": {
  "kernelspec": {
   "display_name": "Python 3",
   "language": "python",
   "name": "python3"
  },
  "language_info": {
   "codemirror_mode": {
    "name": "ipython",
    "version": 3
   },
   "file_extension": ".py",
   "mimetype": "text/x-python",
   "name": "python",
   "nbconvert_exporter": "python",
   "pygments_lexer": "ipython3",
   "version": "3.8.5"
  }
 },
 "nbformat": 4,
 "nbformat_minor": 4
}
